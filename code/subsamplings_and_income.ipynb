{
 "cells": [
  {
   "cell_type": "code",
   "execution_count": 1,
   "id": "ae0890e7",
   "metadata": {},
   "outputs": [],
   "source": [
    "import pandas as pd\n",
    "import numpy as np\n",
    "from matplotlib import pyplot as plt\n",
    "import plotly\n",
    "import seaborn as sns\n",
    "from scipy import stats\n",
    "import pickle"
   ]
  },
  {
   "cell_type": "code",
   "execution_count": 2,
   "id": "10f0c0ae",
   "metadata": {},
   "outputs": [],
   "source": [
    "df = pd.read_pickle(r\"C:\\Users\\Acer\\Downloads\\base_processed.pkl\")"
   ]
  },
  {
   "cell_type": "code",
   "execution_count": 3,
   "id": "34875446",
   "metadata": {},
   "outputs": [
    {
     "data": {
      "text/plain": [
       "array([ 2,  7,  3,  5, 11,  4,  6, 12, 10, 13,  9,  1,  8], dtype=int64)"
      ]
     },
     "execution_count": 3,
     "metadata": {},
     "output_type": "execute_result"
    }
   ],
   "source": [
    "df.age_category.unique()"
   ]
  },
  {
   "cell_type": "code",
   "execution_count": 4,
   "id": "e8a741f4",
   "metadata": {},
   "outputs": [
    {
     "data": {
      "text/plain": [
       "29868"
      ]
     },
     "execution_count": 4,
     "metadata": {},
     "output_type": "execute_result"
    }
   ],
   "source": [
    "df.shape[0]"
   ]
  },
  {
   "cell_type": "code",
   "execution_count": 5,
   "id": "82c28003",
   "metadata": {},
   "outputs": [],
   "source": [
    "def f1(x):\n",
    "    if x == \"51-55\" or x == \"56-60\":\n",
    "        return \"51-60\"\n",
    "    else:\n",
    "        return x\n",
    "\n",
    "df.age_segment = df.age_segment.apply(lambda x: f1(x))"
   ]
  },
  {
   "cell_type": "code",
   "execution_count": 6,
   "id": "0799d3a0",
   "metadata": {},
   "outputs": [],
   "source": [
    "def f(x):\n",
    "    if x == 11:\n",
    "        return 10\n",
    "    else:\n",
    "        return x\n",
    "\n",
    "df.age_category = df.age_category.apply(lambda x: f(x))"
   ]
  },
  {
   "cell_type": "code",
   "execution_count": 7,
   "id": "d93531aa",
   "metadata": {},
   "outputs": [],
   "source": [
    "df = df[(df.age_category != 1) & (df.age_category != 12) & (df.age_category != 13)]"
   ]
  },
  {
   "cell_type": "code",
   "execution_count": 8,
   "id": "fb9aa5bf",
   "metadata": {
    "scrolled": true
   },
   "outputs": [
    {
     "data": {
      "text/plain": [
       "29396"
      ]
     },
     "execution_count": 8,
     "metadata": {},
     "output_type": "execute_result"
    }
   ],
   "source": [
    "df.shape[0]"
   ]
  },
  {
   "cell_type": "code",
   "execution_count": 9,
   "id": "65f066e5",
   "metadata": {},
   "outputs": [],
   "source": [
    "import statsmodels.api as sm\n",
    "from statsmodels.regression.linear_model import OLS\n",
    "from statsmodels.genmod.generalized_linear_model import GLM\n",
    "from statsmodels.genmod import families\n",
    "import statsmodels.stats.tests.test_influence"
   ]
  },
  {
   "cell_type": "markdown",
   "id": "e2b0b12d",
   "metadata": {},
   "source": [
    "<font size =\"6\">\n",
    "    Проверка на подвыборках по region_size"
   ]
  },
  {
   "cell_type": "markdown",
   "id": "d5c462ff",
   "metadata": {},
   "source": [
    "<font size =\"4\"> probit регрессия"
   ]
  },
  {
   "cell_type": "code",
   "execution_count": 10,
   "id": "7bd889c8",
   "metadata": {},
   "outputs": [
    {
     "name": "stderr",
     "output_type": "stream",
     "text": [
      "C:\\Users\\Acer\\AppData\\Local\\Temp\\ipykernel_18632\\3220506927.py:1: UserWarning: Boolean Series key will be reindexed to match DataFrame index.\n",
      "  for region in df.dropna(subset=['region_size'])[df.region_size != 'неизвестно'].region_size.unique():\n"
     ]
    },
    {
     "name": "stdout",
     "output_type": "stream",
     "text": [
      "Optimization terminated successfully.\n",
      "         Current function value: 0.682899\n",
      "         Iterations 4\n",
      "ГОРОД\n",
      "                          Probit Regression Results                           \n",
      "==============================================================================\n",
      "Dep. Variable:                      y   No. Observations:                11775\n",
      "Model:                         Probit   Df Residuals:                    11773\n",
      "Method:                           MLE   Df Model:                            1\n",
      "Date:                Tue, 19 Dec 2023   Pseudo R-squ.:                 0.01412\n",
      "Time:                        16:28:15   Log-Likelihood:                -8041.1\n",
      "converged:                       True   LL-Null:                       -8156.3\n",
      "Covariance Type:            nonrobust   LLR p-value:                 4.858e-52\n",
      "================================================================================\n",
      "                   coef    std err          z      P>|z|      [0.025      0.975]\n",
      "--------------------------------------------------------------------------------\n",
      "const            0.3456      0.028     12.385      0.000       0.291       0.400\n",
      "age_category    -0.0833      0.006    -15.086      0.000      -0.094      -0.072\n",
      "================================================================================\n",
      "\n",
      "\n",
      "Optimization terminated successfully.\n",
      "         Current function value: 0.653352\n",
      "         Iterations 4\n",
      "СЕЛО\n",
      "                          Probit Regression Results                           \n",
      "==============================================================================\n",
      "Dep. Variable:                      y   No. Observations:                 1917\n",
      "Model:                         Probit   Df Residuals:                     1915\n",
      "Method:                           MLE   Df Model:                            1\n",
      "Date:                Tue, 19 Dec 2023   Pseudo R-squ.:                 0.01481\n",
      "Time:                        16:28:15   Log-Likelihood:                -1252.5\n",
      "converged:                       True   LL-Null:                       -1271.3\n",
      "Covariance Type:            nonrobust   LLR p-value:                 8.442e-10\n",
      "================================================================================\n",
      "                   coef    std err          z      P>|z|      [0.025      0.975]\n",
      "--------------------------------------------------------------------------------\n",
      "const            0.0884      0.071      1.238      0.216      -0.052       0.228\n",
      "age_category    -0.0873      0.014     -6.071      0.000      -0.116      -0.059\n",
      "================================================================================\n",
      "\n",
      "\n",
      "Optimization terminated successfully.\n",
      "         Current function value: 0.670282\n",
      "         Iterations 4\n",
      "ПОСЕЛОК\n",
      "                          Probit Regression Results                           \n",
      "==============================================================================\n",
      "Dep. Variable:                      y   No. Observations:                 1392\n",
      "Model:                         Probit   Df Residuals:                     1390\n",
      "Method:                           MLE   Df Model:                            1\n",
      "Date:                Tue, 19 Dec 2023   Pseudo R-squ.:                0.009053\n",
      "Time:                        16:28:15   Log-Likelihood:                -933.03\n",
      "converged:                       True   LL-Null:                       -941.56\n",
      "Covariance Type:            nonrobust   LLR p-value:                 3.643e-05\n",
      "================================================================================\n",
      "                   coef    std err          z      P>|z|      [0.025      0.975]\n",
      "--------------------------------------------------------------------------------\n",
      "const            0.0828      0.083      0.994      0.320      -0.080       0.246\n",
      "age_category    -0.0679      0.017     -4.105      0.000      -0.100      -0.035\n",
      "================================================================================\n",
      "\n",
      "\n",
      "Optimization terminated successfully.\n",
      "         Current function value: 0.687058\n",
      "         Iterations 4\n",
      "МОСКВА\n",
      "                          Probit Regression Results                           \n",
      "==============================================================================\n",
      "Dep. Variable:                      y   No. Observations:                 2039\n",
      "Model:                         Probit   Df Residuals:                     2037\n",
      "Method:                           MLE   Df Model:                            1\n",
      "Date:                Tue, 19 Dec 2023   Pseudo R-squ.:                0.008780\n",
      "Time:                        16:28:15   Log-Likelihood:                -1400.9\n",
      "converged:                       True   LL-Null:                       -1413.3\n",
      "Covariance Type:            nonrobust   LLR p-value:                 6.301e-07\n",
      "================================================================================\n",
      "                   coef    std err          z      P>|z|      [0.025      0.975]\n",
      "--------------------------------------------------------------------------------\n",
      "const            0.3129      0.068      4.580      0.000       0.179       0.447\n",
      "age_category    -0.0671      0.014     -4.962      0.000      -0.094      -0.041\n",
      "================================================================================\n",
      "\n",
      "\n",
      "Optimization terminated successfully.\n",
      "         Current function value: 0.679025\n",
      "         Iterations 4\n",
      "ПОСЕЛОК ГОРОДСКОГО ТИПА\n",
      "                          Probit Regression Results                           \n",
      "==============================================================================\n",
      "Dep. Variable:                      y   No. Observations:                  853\n",
      "Model:                         Probit   Df Residuals:                      851\n",
      "Method:                           MLE   Df Model:                            1\n",
      "Date:                Tue, 19 Dec 2023   Pseudo R-squ.:                0.008665\n",
      "Time:                        16:28:15   Log-Likelihood:                -579.21\n",
      "converged:                       True   LL-Null:                       -584.27\n",
      "Covariance Type:            nonrobust   LLR p-value:                  0.001462\n",
      "================================================================================\n",
      "                   coef    std err          z      P>|z|      [0.025      0.975]\n",
      "--------------------------------------------------------------------------------\n",
      "const            0.1415      0.105      1.354      0.176      -0.063       0.346\n",
      "age_category    -0.0648      0.020     -3.167      0.002      -0.105      -0.025\n",
      "================================================================================\n",
      "\n",
      "\n",
      "Optimization terminated successfully.\n",
      "         Current function value: 0.678192\n",
      "         Iterations 4\n",
      "ГОРОД-МИЛЛИОННИК\n",
      "                          Probit Regression Results                           \n",
      "==============================================================================\n",
      "Dep. Variable:                      y   No. Observations:                 3175\n",
      "Model:                         Probit   Df Residuals:                     3173\n",
      "Method:                           MLE   Df Model:                            1\n",
      "Date:                Tue, 19 Dec 2023   Pseudo R-squ.:                 0.01928\n",
      "Time:                        16:28:15   Log-Likelihood:                -2153.3\n",
      "converged:                       True   LL-Null:                       -2195.6\n",
      "Covariance Type:            nonrobust   LLR p-value:                 3.574e-20\n",
      "================================================================================\n",
      "                   coef    std err          z      P>|z|      [0.025      0.975]\n",
      "--------------------------------------------------------------------------------\n",
      "const            0.5069      0.053      9.635      0.000       0.404       0.610\n",
      "age_category    -0.0965      0.011     -9.145      0.000      -0.117      -0.076\n",
      "================================================================================\n",
      "\n",
      "\n",
      "Optimization terminated successfully.\n",
      "         Current function value: 0.668937\n",
      "         Iterations 4\n",
      "ДЕРЕВНЯ\n",
      "                          Probit Regression Results                           \n",
      "==============================================================================\n",
      "Dep. Variable:                      y   No. Observations:                  764\n",
      "Model:                         Probit   Df Residuals:                      762\n",
      "Method:                           MLE   Df Model:                            1\n",
      "Date:                Tue, 19 Dec 2023   Pseudo R-squ.:                0.005583\n",
      "Time:                        16:28:15   Log-Likelihood:                -511.07\n",
      "converged:                       True   LL-Null:                       -513.94\n",
      "Covariance Type:            nonrobust   LLR p-value:                   0.01660\n",
      "================================================================================\n",
      "                   coef    std err          z      P>|z|      [0.025      0.975]\n",
      "--------------------------------------------------------------------------------\n",
      "const           -0.0064      0.114     -0.056      0.955      -0.229       0.216\n",
      "age_category    -0.0534      0.022     -2.387      0.017      -0.097      -0.010\n",
      "================================================================================\n",
      "\n",
      "\n",
      "Optimization terminated successfully.\n",
      "         Current function value: 0.682120\n",
      "         Iterations 4\n",
      "САНКТ-ПЕТЕРБУРГ\n",
      "                          Probit Regression Results                           \n",
      "==============================================================================\n",
      "Dep. Variable:                      y   No. Observations:                  786\n",
      "Model:                         Probit   Df Residuals:                      784\n",
      "Method:                           MLE   Df Model:                            1\n",
      "Date:                Tue, 19 Dec 2023   Pseudo R-squ.:                0.006492\n",
      "Time:                        16:28:15   Log-Likelihood:                -536.15\n",
      "converged:                       True   LL-Null:                       -539.65\n",
      "Covariance Type:            nonrobust   LLR p-value:                  0.008120\n",
      "================================================================================\n",
      "                   coef    std err          z      P>|z|      [0.025      0.975]\n",
      "--------------------------------------------------------------------------------\n",
      "const            0.4093      0.110      3.718      0.000       0.194       0.625\n",
      "age_category    -0.0580      0.022     -2.643      0.008      -0.101      -0.015\n",
      "================================================================================\n",
      "\n",
      "\n"
     ]
    }
   ],
   "source": [
    "for region in df.dropna(subset=['region_size'])[df.region_size != 'неизвестно'].region_size.unique():\n",
    "    df_reg = df[df.region_size == region]\n",
    "    X = df_reg.age_category\n",
    "    Y = df_reg.cancelled_trial.to_numpy()\n",
    "\n",
    "    X = sm.add_constant(X, prepend=True)\n",
    "    model = sm.Probit(Y, X)\n",
    "    res = model.fit()\n",
    "    print(region, res.summary(), sep='\\n', end='\\n\\n\\n')"
   ]
  },
  {
   "cell_type": "markdown",
   "id": "38f7fd26",
   "metadata": {},
   "source": [
    "<font size =\"4\"> линейная регрессия"
   ]
  },
  {
   "cell_type": "code",
   "execution_count": 11,
   "id": "38e2012b",
   "metadata": {},
   "outputs": [
    {
     "name": "stdout",
     "output_type": "stream",
     "text": [
      "ГОРОД\n",
      "                            OLS Regression Results                            \n",
      "==============================================================================\n",
      "Dep. Variable:                      y   R-squared:                       0.019\n",
      "Model:                            OLS   Adj. R-squared:                  0.019\n",
      "Method:                 Least Squares   F-statistic:                     232.4\n",
      "Date:                Tue, 19 Dec 2023   Prob (F-statistic):           5.68e-52\n",
      "Time:                        16:28:15   Log-Likelihood:                -8425.6\n",
      "No. Observations:               11775   AIC:                         1.686e+04\n",
      "Df Residuals:                   11773   BIC:                         1.687e+04\n",
      "Df Model:                           1                                         \n",
      "Covariance Type:            nonrobust                                         \n",
      "==============================================================================\n",
      "                 coef    std err          t      P>|t|      [0.025      0.975]\n",
      "------------------------------------------------------------------------------\n",
      "x1            -0.0327      0.002    -15.244      0.000      -0.037      -0.028\n",
      "const          0.6358      0.011     58.293      0.000       0.614       0.657\n",
      "==============================================================================\n",
      "Omnibus:                    42440.200   Durbin-Watson:                   1.977\n",
      "Prob(Omnibus):                  0.000   Jarque-Bera (JB):             1814.972\n",
      "Skew:                           0.055   Prob(JB):                         0.00\n",
      "Kurtosis:                       1.080   Cond. No.                         12.6\n",
      "==============================================================================\n",
      "\n",
      "Notes:\n",
      "[1] Standard Errors assume that the covariance matrix of the errors is correctly specified.\n",
      "\n",
      "\n",
      "СЕЛО\n",
      "                            OLS Regression Results                            \n",
      "==============================================================================\n",
      "Dep. Variable:                      y   R-squared:                       0.019\n",
      "Model:                            OLS   Adj. R-squared:                  0.019\n",
      "Method:                 Least Squares   F-statistic:                     37.26\n",
      "Date:                Tue, 19 Dec 2023   Prob (F-statistic):           1.25e-09\n",
      "Time:                        16:28:15   Log-Likelihood:                -1314.2\n",
      "No. Observations:                1917   AIC:                             2632.\n",
      "Df Residuals:                    1915   BIC:                             2644.\n",
      "Df Model:                           1                                         \n",
      "Covariance Type:            nonrobust                                         \n",
      "==============================================================================\n",
      "                 coef    std err          t      P>|t|      [0.025      0.975]\n",
      "------------------------------------------------------------------------------\n",
      "x1            -0.0319      0.005     -6.104      0.000      -0.042      -0.022\n",
      "const          0.5261      0.027     19.774      0.000       0.474       0.578\n",
      "==============================================================================\n",
      "Omnibus:                     8955.990   Durbin-Watson:                   2.067\n",
      "Prob(Omnibus):                  0.000   Jarque-Bera (JB):              302.349\n",
      "Skew:                           0.484   Prob(JB):                     2.22e-66\n",
      "Kurtosis:                       1.312   Cond. No.                         12.7\n",
      "==============================================================================\n",
      "\n",
      "Notes:\n",
      "[1] Standard Errors assume that the covariance matrix of the errors is correctly specified.\n",
      "\n",
      "\n",
      "ПОСЕЛОК\n",
      "                            OLS Regression Results                            \n",
      "==============================================================================\n",
      "Dep. Variable:                      y   R-squared:                       0.012\n",
      "Model:                            OLS   Adj. R-squared:                  0.011\n",
      "Method:                 Least Squares   F-statistic:                     16.96\n",
      "Date:                Tue, 19 Dec 2023   Prob (F-statistic):           4.03e-05\n",
      "Time:                        16:28:15   Log-Likelihood:                -978.29\n",
      "No. Observations:                1392   AIC:                             1961.\n",
      "Df Residuals:                    1390   BIC:                             1971.\n",
      "Df Model:                           1                                         \n",
      "Covariance Type:            nonrobust                                         \n",
      "==============================================================================\n",
      "                 coef    std err          t      P>|t|      [0.025      0.975]\n",
      "------------------------------------------------------------------------------\n",
      "x1            -0.0258      0.006     -4.119      0.000      -0.038      -0.014\n",
      "const          0.5290      0.032     16.530      0.000       0.466       0.592\n",
      "==============================================================================\n",
      "Omnibus:                     5809.183   Durbin-Watson:                   2.029\n",
      "Prob(Omnibus):                  0.000   Jarque-Bera (JB):              222.556\n",
      "Skew:                           0.363   Prob(JB):                     4.70e-49\n",
      "Kurtosis:                       1.180   Cond. No.                         12.9\n",
      "==============================================================================\n",
      "\n",
      "Notes:\n",
      "[1] Standard Errors assume that the covariance matrix of the errors is correctly specified.\n",
      "\n",
      "\n",
      "МОСКВА\n",
      "                            OLS Regression Results                            \n",
      "==============================================================================\n",
      "Dep. Variable:                      y   R-squared:                       0.012\n",
      "Model:                            OLS   Adj. R-squared:                  0.012\n",
      "Method:                 Least Squares   F-statistic:                     24.94\n",
      "Date:                Tue, 19 Dec 2023   Prob (F-statistic):           6.42e-07\n",
      "Time:                        16:28:15   Log-Likelihood:                -1467.5\n",
      "No. Observations:                2039   AIC:                             2939.\n",
      "Df Residuals:                    2037   BIC:                             2950.\n",
      "Df Model:                           1                                         \n",
      "Covariance Type:            nonrobust                                         \n",
      "==============================================================================\n",
      "                 coef    std err          t      P>|t|      [0.025      0.975]\n",
      "------------------------------------------------------------------------------\n",
      "x1            -0.0265      0.005     -4.994      0.000      -0.037      -0.016\n",
      "const          0.6237      0.027     23.202      0.000       0.571       0.676\n",
      "==============================================================================\n",
      "Omnibus:                     7509.686   Durbin-Watson:                   2.043\n",
      "Prob(Omnibus):                  0.000   Jarque-Bera (JB):              323.737\n",
      "Skew:                          -0.006   Prob(JB):                     5.03e-71\n",
      "Kurtosis:                       1.048   Cond. No.                         12.8\n",
      "==============================================================================\n",
      "\n",
      "Notes:\n",
      "[1] Standard Errors assume that the covariance matrix of the errors is correctly specified.\n",
      "\n",
      "\n",
      "ПОСЕЛОК ГОРОДСКОГО ТИПА\n",
      "                            OLS Regression Results                            \n",
      "==============================================================================\n",
      "Dep. Variable:                      y   R-squared:                       0.012\n",
      "Model:                            OLS   Adj. R-squared:                  0.011\n",
      "Method:                 Least Squares   F-statistic:                     10.10\n",
      "Date:                Tue, 19 Dec 2023   Prob (F-statistic):            0.00153\n",
      "Time:                        16:28:15   Log-Likelihood:                -607.05\n",
      "No. Observations:                 853   AIC:                             1218.\n",
      "Df Residuals:                     851   BIC:                             1228.\n",
      "Df Model:                           1                                         \n",
      "Covariance Type:            nonrobust                                         \n",
      "==============================================================================\n",
      "                 coef    std err          t      P>|t|      [0.025      0.975]\n",
      "------------------------------------------------------------------------------\n",
      "x1            -0.0251      0.008     -3.178      0.002      -0.041      -0.010\n",
      "const          0.5540      0.041     13.593      0.000       0.474       0.634\n",
      "==============================================================================\n",
      "Omnibus:                     3522.368   Durbin-Watson:                   1.924\n",
      "Prob(Omnibus):                  0.000   Jarque-Bera (JB):              135.903\n",
      "Skew:                           0.251   Prob(JB):                     3.08e-30\n",
      "Kurtosis:                       1.110   Cond. No.                         12.8\n",
      "==============================================================================\n",
      "\n",
      "Notes:\n",
      "[1] Standard Errors assume that the covariance matrix of the errors is correctly specified.\n",
      "\n",
      "\n",
      "ГОРОД-МИЛЛИОННИК\n",
      "                            OLS Regression Results                            \n",
      "==============================================================================\n",
      "Dep. Variable:                      y   R-squared:                       0.026\n",
      "Model:                            OLS   Adj. R-squared:                  0.026\n",
      "Method:                 Least Squares   F-statistic:                     86.32\n",
      "Date:                Tue, 19 Dec 2023   Prob (F-statistic):           2.77e-20\n",
      "Time:                        16:28:15   Log-Likelihood:                -2256.6\n",
      "No. Observations:                3175   AIC:                             4517.\n",
      "Df Residuals:                    3173   BIC:                             4529.\n",
      "Df Model:                           1                                         \n",
      "Covariance Type:            nonrobust                                         \n",
      "==============================================================================\n",
      "                 coef    std err          t      P>|t|      [0.025      0.975]\n",
      "------------------------------------------------------------------------------\n",
      "x1            -0.0380      0.004     -9.291      0.000      -0.046      -0.030\n",
      "const          0.6994      0.020     34.339      0.000       0.659       0.739\n",
      "==============================================================================\n",
      "Omnibus:                    12057.787   Durbin-Watson:                   1.960\n",
      "Prob(Omnibus):                  0.000   Jarque-Bera (JB):              474.118\n",
      "Skew:                          -0.112   Prob(JB):                    1.11e-103\n",
      "Kurtosis:                       1.120   Cond. No.                         12.0\n",
      "==============================================================================\n",
      "\n",
      "Notes:\n",
      "[1] Standard Errors assume that the covariance matrix of the errors is correctly specified.\n",
      "\n",
      "\n",
      "ДЕРЕВНЯ\n",
      "                            OLS Regression Results                            \n",
      "==============================================================================\n",
      "Dep. Variable:                      y   R-squared:                       0.007\n",
      "Model:                            OLS   Adj. R-squared:                  0.006\n",
      "Method:                 Least Squares   F-statistic:                     5.707\n",
      "Date:                Tue, 19 Dec 2023   Prob (F-statistic):             0.0171\n",
      "Time:                        16:28:15   Log-Likelihood:                -535.81\n",
      "No. Observations:                 764   AIC:                             1076.\n",
      "Df Residuals:                     762   BIC:                             1085.\n",
      "Df Model:                           1                                         \n",
      "Covariance Type:            nonrobust                                         \n",
      "==============================================================================\n",
      "                 coef    std err          t      P>|t|      [0.025      0.975]\n",
      "------------------------------------------------------------------------------\n",
      "x1            -0.0203      0.009     -2.389      0.017      -0.037      -0.004\n",
      "const          0.4947      0.044     11.320      0.000       0.409       0.580\n",
      "==============================================================================\n",
      "Omnibus:                     3446.126   Durbin-Watson:                   2.067\n",
      "Prob(Omnibus):                  0.000   Jarque-Bera (JB):              124.654\n",
      "Skew:                           0.406   Prob(JB):                     8.54e-28\n",
      "Kurtosis:                       1.196   Cond. No.                         13.1\n",
      "==============================================================================\n",
      "\n",
      "Notes:\n",
      "[1] Standard Errors assume that the covariance matrix of the errors is correctly specified.\n",
      "\n",
      "\n",
      "САНКТ-ПЕТЕРБУРГ\n",
      "                            OLS Regression Results                            \n",
      "==============================================================================\n",
      "Dep. Variable:                      y   R-squared:                       0.009\n",
      "Model:                            OLS   Adj. R-squared:                  0.008\n",
      "Method:                 Least Squares   F-statistic:                     7.054\n",
      "Date:                Tue, 19 Dec 2023   Prob (F-statistic):            0.00807\n",
      "Time:                        16:28:15   Log-Likelihood:                -561.77\n",
      "No. Observations:                 786   AIC:                             1128.\n",
      "Df Residuals:                     784   BIC:                             1137.\n",
      "Df Model:                           1                                         \n",
      "Covariance Type:            nonrobust                                         \n",
      "==============================================================================\n",
      "                 coef    std err          t      P>|t|      [0.025      0.975]\n",
      "------------------------------------------------------------------------------\n",
      "x1            -0.0229      0.009     -2.656      0.008      -0.040      -0.006\n",
      "const          0.6616      0.043     15.362      0.000       0.577       0.746\n",
      "==============================================================================\n",
      "Omnibus:                     3225.086   Durbin-Watson:                   1.871\n",
      "Prob(Omnibus):                  0.000   Jarque-Bera (JB):              126.474\n",
      "Skew:                          -0.228   Prob(JB):                     3.44e-28\n",
      "Kurtosis:                       1.088   Cond. No.                         12.6\n",
      "==============================================================================\n",
      "\n",
      "Notes:\n",
      "[1] Standard Errors assume that the covariance matrix of the errors is correctly specified.\n",
      "\n",
      "\n"
     ]
    },
    {
     "name": "stderr",
     "output_type": "stream",
     "text": [
      "C:\\Users\\Acer\\AppData\\Local\\Temp\\ipykernel_18632\\437193432.py:1: UserWarning: Boolean Series key will be reindexed to match DataFrame index.\n",
      "  for region in df.dropna(subset=['region_size'])[df.region_size != 'неизвестно'].region_size.unique():\n"
     ]
    }
   ],
   "source": [
    "for region in df.dropna(subset=['region_size'])[df.region_size != 'неизвестно'].region_size.unique():\n",
    "    df_reg = df[df.region_size == region]\n",
    "    X = df_reg.age_category.to_numpy()\n",
    "    Y = df_reg.cancelled_trial.to_numpy()\n",
    "\n",
    "    X = sm.add_constant(X, prepend=False)\n",
    "    lin_model = OLS(Y, X)\n",
    "    res_lin = lin_model.fit()\n",
    "    \n",
    "    print(region, res_lin.summary(), sep='\\n', end='\\n\\n\\n')"
   ]
  },
  {
   "cell_type": "markdown",
   "id": "4efebab6",
   "metadata": {},
   "source": [
    "<font size =\"6\">\n",
    "    Проверка на подвыборках по channel_desc"
   ]
  },
  {
   "cell_type": "code",
   "execution_count": 12,
   "id": "0fbed289",
   "metadata": {},
   "outputs": [
    {
     "data": {
      "text/plain": [
       "0"
      ]
     },
     "execution_count": 12,
     "metadata": {},
     "output_type": "execute_result"
    }
   ],
   "source": [
    "df.channel_desc.isna().sum()"
   ]
  },
  {
   "cell_type": "markdown",
   "id": "64d4d5a8",
   "metadata": {},
   "source": [
    "<font size =\"4\"> probit регрессия"
   ]
  },
  {
   "cell_type": "code",
   "execution_count": 13,
   "id": "5b9a6a96",
   "metadata": {
    "scrolled": true
   },
   "outputs": [
    {
     "name": "stdout",
     "output_type": "stream",
     "text": [
      "Optimization terminated successfully.\n",
      "         Current function value: 0.683924\n",
      "         Iterations 4\n",
      "МБ\n",
      "                          Probit Regression Results                           \n",
      "==============================================================================\n",
      "Dep. Variable:                      y   No. Observations:                25510\n",
      "Model:                         Probit   Df Residuals:                    25508\n",
      "Method:                           MLE   Df Model:                            1\n",
      "Date:                Tue, 19 Dec 2023   Pseudo R-squ.:                 0.01272\n",
      "Time:                        16:28:16   Log-Likelihood:                -17447.\n",
      "converged:                       True   LL-Null:                       -17672.\n",
      "Covariance Type:            nonrobust   LLR p-value:                8.453e-100\n",
      "==============================================================================\n",
      "                 coef    std err          z      P>|z|      [0.025      0.975]\n",
      "------------------------------------------------------------------------------\n",
      "const          0.3666      0.018     20.918      0.000       0.332       0.401\n",
      "x1            -0.0779      0.004    -21.100      0.000      -0.085      -0.071\n",
      "==============================================================================\n",
      "\n",
      "\n",
      "Optimization terminated successfully.\n",
      "         Current function value: 0.569248\n",
      "         Iterations 5\n",
      "Web\n",
      "                          Probit Regression Results                           \n",
      "==============================================================================\n",
      "Dep. Variable:                      y   No. Observations:                 3886\n",
      "Model:                         Probit   Df Residuals:                     3884\n",
      "Method:                           MLE   Df Model:                            1\n",
      "Date:                Tue, 19 Dec 2023   Pseudo R-squ.:                0.008800\n",
      "Time:                        16:28:16   Log-Likelihood:                -2212.1\n",
      "converged:                       True   LL-Null:                       -2231.7\n",
      "Covariance Type:            nonrobust   LLR p-value:                 3.673e-10\n",
      "==============================================================================\n",
      "                 coef    std err          z      P>|z|      [0.025      0.975]\n",
      "------------------------------------------------------------------------------\n",
      "const         -0.3598      0.050     -7.265      0.000      -0.457      -0.263\n",
      "x1            -0.0577      0.009     -6.225      0.000      -0.076      -0.040\n",
      "==============================================================================\n",
      "\n",
      "\n"
     ]
    }
   ],
   "source": [
    "for channel in df.channel_desc.unique():\n",
    "    df_ch = df[df.channel_desc == channel]\n",
    "    X = df_ch.age_category.to_numpy()\n",
    "    Y = df_ch.cancelled_trial.to_numpy()\n",
    "\n",
    "    X = sm.add_constant(X, prepend=True)\n",
    "    model = sm.Probit(Y, X)\n",
    "    res = model.fit()\n",
    "    \n",
    "    print(channel, res.summary(), sep='\\n', end='\\n\\n\\n')"
   ]
  },
  {
   "cell_type": "markdown",
   "id": "821454d9",
   "metadata": {},
   "source": [
    "<font size =\"4\"> линейная регрессия"
   ]
  },
  {
   "cell_type": "code",
   "execution_count": 14,
   "id": "0c259366",
   "metadata": {
    "scrolled": true
   },
   "outputs": [
    {
     "name": "stdout",
     "output_type": "stream",
     "text": [
      "МБ\n",
      "                            OLS Regression Results                            \n",
      "==============================================================================\n",
      "Dep. Variable:                      y   R-squared:                       0.018\n",
      "Model:                            OLS   Adj. R-squared:                  0.017\n",
      "Method:                 Least Squares   F-statistic:                     454.8\n",
      "Date:                Tue, 19 Dec 2023   Prob (F-statistic):          4.76e-100\n",
      "Time:                        16:28:16   Log-Likelihood:                -18279.\n",
      "No. Observations:               25510   AIC:                         3.656e+04\n",
      "Df Residuals:                   25508   BIC:                         3.658e+04\n",
      "Df Model:                           1                                         \n",
      "Covariance Type:            nonrobust                                         \n",
      "==============================================================================\n",
      "                 coef    std err          t      P>|t|      [0.025      0.975]\n",
      "------------------------------------------------------------------------------\n",
      "const          0.6448      0.007     93.978      0.000       0.631       0.658\n",
      "x1            -0.0308      0.001    -21.327      0.000      -0.034      -0.028\n",
      "==============================================================================\n",
      "Omnibus:                    91133.321   Durbin-Watson:                   2.023\n",
      "Prob(Omnibus):                  0.000   Jarque-Bera (JB):             3959.957\n",
      "Skew:                          -0.059   Prob(JB):                         0.00\n",
      "Kurtosis:                       1.073   Cond. No.                         10.9\n",
      "==============================================================================\n",
      "\n",
      "Notes:\n",
      "[1] Standard Errors assume that the covariance matrix of the errors is correctly specified.\n",
      "\n",
      "\n",
      "Web\n",
      "                            OLS Regression Results                            \n",
      "==============================================================================\n",
      "Dep. Variable:                      y   R-squared:                       0.010\n",
      "Model:                            OLS   Adj. R-squared:                  0.010\n",
      "Method:                 Least Squares   F-statistic:                     39.37\n",
      "Date:                Tue, 19 Dec 2023   Prob (F-statistic):           3.89e-10\n",
      "Time:                        16:28:16   Log-Likelihood:                -2297.8\n",
      "No. Observations:                3886   AIC:                             4600.\n",
      "Df Residuals:                    3884   BIC:                             4612.\n",
      "Df Model:                           1                                         \n",
      "Covariance Type:            nonrobust                                         \n",
      "==============================================================================\n",
      "                 coef    std err          t      P>|t|      [0.025      0.975]\n",
      "------------------------------------------------------------------------------\n",
      "const          0.3529      0.016     21.771      0.000       0.321       0.385\n",
      "x1            -0.0185      0.003     -6.274      0.000      -0.024      -0.013\n",
      "==============================================================================\n",
      "Omnibus:                      839.222   Durbin-Watson:                   1.977\n",
      "Prob(Omnibus):                  0.000   Jarque-Bera (JB):              847.661\n",
      "Skew:                           1.072   Prob(JB):                    8.57e-185\n",
      "Kurtosis:                       2.200   Cond. No.                         13.0\n",
      "==============================================================================\n",
      "\n",
      "Notes:\n",
      "[1] Standard Errors assume that the covariance matrix of the errors is correctly specified.\n",
      "\n",
      "\n"
     ]
    }
   ],
   "source": [
    "for channel in df.channel_desc.unique():\n",
    "    df_ch = df[df.channel_desc == channel]\n",
    "    X = df_ch.age_category.to_numpy()\n",
    "    Y = df_ch.cancelled_trial.to_numpy()\n",
    "\n",
    "    X = sm.add_constant(X, prepend=True)\n",
    "    lin_model = sm.OLS(Y, X)\n",
    "    res_lin = lin_model.fit()\n",
    "    print(channel, res_lin.summary(), sep='\\n', end='\\n\\n\\n')"
   ]
  },
  {
   "cell_type": "markdown",
   "id": "af721e8d",
   "metadata": {},
   "source": [
    "<font size =\"6\">\n",
    "    Добавление новой переменной in_total_5ms_amt в регрессию"
   ]
  },
  {
   "cell_type": "markdown",
   "id": "bf1fe136",
   "metadata": {},
   "source": [
    "<font size=\"3\">\n",
    "обработка от выбросов in_total_5ms_amt"
   ]
  },
  {
   "cell_type": "code",
   "execution_count": 15,
   "id": "0ed01cef",
   "metadata": {},
   "outputs": [],
   "source": [
    "q1 = df.in_total_5ms_amt.quantile(0.25)\n",
    "q3 = df.in_total_5ms_amt.quantile(0.75)\n",
    "iqr = q3 - q1\n",
    "lb = q1 - 1.5 * iqr\n",
    "rb = q3 + 1.5 * iqr\n",
    "df1 = df[(df.in_total_5ms_amt >= lb) & (df.in_total_5ms_amt <= rb)]"
   ]
  },
  {
   "cell_type": "code",
   "execution_count": 16,
   "id": "2131a472",
   "metadata": {},
   "outputs": [
    {
     "data": {
      "text/plain": [
       "(26613, 26613)"
      ]
     },
     "execution_count": 16,
     "metadata": {},
     "output_type": "execute_result"
    }
   ],
   "source": [
    "df1.dropna(subset='in_total_5ms_amt').shape[0], df1.shape[0]"
   ]
  },
  {
   "cell_type": "code",
   "execution_count": 17,
   "id": "63677f7e",
   "metadata": {},
   "outputs": [],
   "source": [
    "df1 = df1[df1.in_total_5ms_amt != 0]"
   ]
  },
  {
   "cell_type": "markdown",
   "id": "bc25656a",
   "metadata": {},
   "source": [
    "<font size=\"3\">\n",
    "    probit регрессия"
   ]
  },
  {
   "cell_type": "code",
   "execution_count": 18,
   "id": "a69e1957",
   "metadata": {
    "scrolled": false
   },
   "outputs": [
    {
     "name": "stdout",
     "output_type": "stream",
     "text": [
      "Optimization terminated successfully.\n",
      "         Current function value: 0.680703\n",
      "         Iterations 4\n",
      "                          Probit Regression Results                           \n",
      "==============================================================================\n",
      "Dep. Variable:                      y   No. Observations:                23796\n",
      "Model:                         Probit   Df Residuals:                    23794\n",
      "Method:                           MLE   Df Model:                            1\n",
      "Date:                Tue, 19 Dec 2023   Pseudo R-squ.:                 0.01795\n",
      "Time:                        16:28:16   Log-Likelihood:                -16198.\n",
      "converged:                       True   LL-Null:                       -16494.\n",
      "Covariance Type:            nonrobust   LLR p-value:                9.342e-131\n",
      "==============================================================================\n",
      "                 coef    std err          z      P>|z|      [0.025      0.975]\n",
      "------------------------------------------------------------------------------\n",
      "const          0.3803      0.018     21.290      0.000       0.345       0.415\n",
      "x1            -0.0912      0.004    -24.155      0.000      -0.099      -0.084\n",
      "==============================================================================\n"
     ]
    }
   ],
   "source": [
    "X = df1[['age_category']].to_numpy()\n",
    "Y = df1['cancelled_trial'].to_numpy()\n",
    "\n",
    "X = sm.add_constant(X, prepend=True)\n",
    "log_model = sm.Probit(Y, X)\n",
    "res_log = log_model.fit()\n",
    "print(res_log.summary())"
   ]
  },
  {
   "cell_type": "code",
   "execution_count": 19,
   "id": "470b22c5",
   "metadata": {
    "scrolled": true
   },
   "outputs": [
    {
     "name": "stdout",
     "output_type": "stream",
     "text": [
      "Optimization terminated successfully.\n",
      "         Current function value: 0.666163\n",
      "         Iterations 4\n",
      "                          Probit Regression Results                           \n",
      "==============================================================================\n",
      "Dep. Variable:                      y   No. Observations:                23796\n",
      "Model:                         Probit   Df Residuals:                    23793\n",
      "Method:                           MLE   Df Model:                            2\n",
      "Date:                Tue, 19 Dec 2023   Pseudo R-squ.:                 0.03892\n",
      "Time:                        16:28:16   Log-Likelihood:                -15852.\n",
      "converged:                       True   LL-Null:                       -16494.\n",
      "Covariance Type:            nonrobust   LLR p-value:                1.567e-279\n",
      "==============================================================================\n",
      "                 coef    std err          z      P>|z|      [0.025      0.975]\n",
      "------------------------------------------------------------------------------\n",
      "const          0.2283      0.019     12.104      0.000       0.191       0.265\n",
      "x1            -0.1012      0.004    -26.384      0.000      -0.109      -0.094\n",
      "x2          7.559e-07    2.9e-08     26.039      0.000    6.99e-07    8.13e-07\n",
      "==============================================================================\n"
     ]
    }
   ],
   "source": [
    "X = df1[['age_category', 'in_total_5ms_amt']].to_numpy()\n",
    "Y = df1['cancelled_trial'].to_numpy()\n",
    "\n",
    "X = sm.add_constant(X, prepend=True)\n",
    "log_model = sm.Probit(Y, X)\n",
    "res_log = log_model.fit()\n",
    "print(res_log.summary())\n",
    "# print(f'AIC: {res_lin1.aic}')\n",
    "# print(f'BIC: {res_lin1.bic}')"
   ]
  },
  {
   "cell_type": "markdown",
   "id": "171b54e7",
   "metadata": {},
   "source": [
    "<font size=\"3\">\n",
    "    линейная регрессия"
   ]
  },
  {
   "cell_type": "code",
   "execution_count": 20,
   "id": "17102720",
   "metadata": {},
   "outputs": [
    {
     "name": "stdout",
     "output_type": "stream",
     "text": [
      "                            OLS Regression Results                            \n",
      "==============================================================================\n",
      "Dep. Variable:                      y   R-squared:                       0.025\n",
      "Model:                            OLS   Adj. R-squared:                  0.025\n",
      "Method:                 Least Squares   F-statistic:                     600.3\n",
      "Date:                Tue, 19 Dec 2023   Prob (F-statistic):          6.12e-131\n",
      "Time:                        16:28:17   Log-Likelihood:                -16974.\n",
      "No. Observations:               23796   AIC:                         3.395e+04\n",
      "Df Residuals:                   23794   BIC:                         3.397e+04\n",
      "Df Model:                           1                                         \n",
      "Covariance Type:            nonrobust                                         \n",
      "==============================================================================\n",
      "                 coef    std err          t      P>|t|      [0.025      0.975]\n",
      "------------------------------------------------------------------------------\n",
      "const          0.6495      0.007     93.392      0.000       0.636       0.663\n",
      "x1            -0.0358      0.001    -24.500      0.000      -0.039      -0.033\n",
      "==============================================================================\n",
      "Omnibus:                    86412.793   Durbin-Watson:                   2.003\n",
      "Prob(Omnibus):                  0.000   Jarque-Bera (JB):             3585.984\n",
      "Skew:                           0.003   Prob(JB):                         0.00\n",
      "Kurtosis:                       1.098   Cond. No.                         10.7\n",
      "==============================================================================\n",
      "\n",
      "Notes:\n",
      "[1] Standard Errors assume that the covariance matrix of the errors is correctly specified.\n"
     ]
    }
   ],
   "source": [
    "X = df1[['age_category']].to_numpy()\n",
    "Y = df1['cancelled_trial'].to_numpy()\n",
    "\n",
    "X = sm.add_constant(X, prepend=True)\n",
    "lin_model = OLS(Y, X)\n",
    "res_lin = lin_model.fit()\n",
    "print(res_lin.summary())\n",
    "# print(f'AIC: {res_lin1.aic}')\n",
    "# print(f'BIC: {res_lin1.bic}')"
   ]
  },
  {
   "cell_type": "code",
   "execution_count": 21,
   "id": "52ed26c2",
   "metadata": {},
   "outputs": [
    {
     "name": "stdout",
     "output_type": "stream",
     "text": [
      "                            OLS Regression Results                            \n",
      "==============================================================================\n",
      "Dep. Variable:                      y   R-squared:                       0.053\n",
      "Model:                            OLS   Adj. R-squared:                  0.053\n",
      "Method:                 Least Squares   F-statistic:                     660.8\n",
      "Date:                Tue, 19 Dec 2023   Prob (F-statistic):          4.87e-280\n",
      "Time:                        16:28:17   Log-Likelihood:                -16628.\n",
      "No. Observations:               23796   AIC:                         3.326e+04\n",
      "Df Residuals:                   23793   BIC:                         3.329e+04\n",
      "Df Model:                           2                                         \n",
      "Covariance Type:            nonrobust                                         \n",
      "==============================================================================\n",
      "                 coef    std err          t      P>|t|      [0.025      0.975]\n",
      "------------------------------------------------------------------------------\n",
      "const          0.5877      0.007     81.184      0.000       0.574       0.602\n",
      "x1            -0.0388      0.001    -26.877      0.000      -0.042      -0.036\n",
      "x2          2.897e-07   1.09e-08     26.527      0.000    2.68e-07    3.11e-07\n",
      "==============================================================================\n",
      "Omnibus:                    94007.981   Durbin-Watson:                   1.999\n",
      "Prob(Omnibus):                  0.000   Jarque-Bera (JB):             3179.351\n",
      "Skew:                           0.001   Prob(JB):                         0.00\n",
      "Kurtosis:                       1.209   Cond. No.                     9.01e+05\n",
      "==============================================================================\n",
      "\n",
      "Notes:\n",
      "[1] Standard Errors assume that the covariance matrix of the errors is correctly specified.\n",
      "[2] The condition number is large, 9.01e+05. This might indicate that there are\n",
      "strong multicollinearity or other numerical problems.\n"
     ]
    }
   ],
   "source": [
    "X = df1[['age_category', 'in_total_5ms_amt']].to_numpy()\n",
    "Y = df1['cancelled_trial'].to_numpy()\n",
    "\n",
    "X = sm.add_constant(X, prepend=True)\n",
    "lin_model = OLS(Y, X)\n",
    "res_lin = lin_model.fit()\n",
    "print(res_lin.summary())\n",
    "# print(f'AIC: {res_lin1.aic}')\n",
    "# print(f'BIC: {res_lin1.bic}')"
   ]
  },
  {
   "cell_type": "markdown",
   "id": "b5b1fda7",
   "metadata": {},
   "source": [
    "<font size=\"3\">\n",
    "    Проверка на мультиколлинеарность age_category и in_total_5ms_amt по variance_inflation_factor </br>\n",
    "    (он < 4, значит, все ок)"
   ]
  },
  {
   "cell_type": "code",
   "execution_count": 22,
   "id": "61769ead",
   "metadata": {},
   "outputs": [
    {
     "name": "stdout",
     "output_type": "stream",
     "text": [
      "            feature       VIF\n",
      "0      age_category  1.124485\n",
      "1  in_total_5ms_amt  1.124485\n"
     ]
    }
   ],
   "source": [
    "from statsmodels.stats.outliers_influence import variance_inflation_factor\n",
    " \n",
    "X = df[['age_category', 'in_total_5ms_amt']]\n",
    " \n",
    "vif_data = pd.DataFrame()\n",
    "vif_data[\"feature\"] = X.columns\n",
    " \n",
    "vif_data[\"VIF\"] = [variance_inflation_factor(X.values, i)\n",
    "                          for i in range(len(X.columns))]\n",
    "  \n",
    "print(vif_data)"
   ]
  },
  {
   "cell_type": "markdown",
   "id": "741c2de4",
   "metadata": {},
   "source": [
    "<font size=\"4\">\n",
    "    логарифмирование in_total_5ms_amt"
   ]
  },
  {
   "cell_type": "code",
   "execution_count": 23,
   "id": "a77640d4",
   "metadata": {},
   "outputs": [],
   "source": [
    "df1['in_total_5ms_amt_loged'] = np.log(df1['in_total_5ms_amt'])"
   ]
  },
  {
   "cell_type": "markdown",
   "id": "57d63886",
   "metadata": {},
   "source": [
    "<font size=\"3\">\n",
    "    probit регрессия с прологарифмированными доходами"
   ]
  },
  {
   "cell_type": "code",
   "execution_count": 24,
   "id": "da4bb250",
   "metadata": {},
   "outputs": [
    {
     "name": "stdout",
     "output_type": "stream",
     "text": [
      "Optimization terminated successfully.\n",
      "         Current function value: 0.660608\n",
      "         Iterations 5\n",
      "                          Probit Regression Results                           \n",
      "==============================================================================\n",
      "Dep. Variable:                      y   No. Observations:                23796\n",
      "Model:                         Probit   Df Residuals:                    23793\n",
      "Method:                           MLE   Df Model:                            2\n",
      "Date:                Tue, 19 Dec 2023   Pseudo R-squ.:                 0.04694\n",
      "Time:                        16:28:20   Log-Likelihood:                -15720.\n",
      "converged:                       True   LL-Null:                       -16494.\n",
      "Covariance Type:            nonrobust   LLR p-value:                     0.000\n",
      "==============================================================================\n",
      "                 coef    std err          z      P>|z|      [0.025      0.975]\n",
      "------------------------------------------------------------------------------\n",
      "const         -0.9828      0.049    -20.194      0.000      -1.078      -0.887\n",
      "x1            -0.0999      0.004    -25.990      0.000      -0.107      -0.092\n",
      "x2             0.1231      0.004     30.135      0.000       0.115       0.131\n",
      "==============================================================================\n"
     ]
    }
   ],
   "source": [
    "X = df1[['age_category', 'in_total_5ms_amt_loged']].to_numpy()\n",
    "Y = df1['cancelled_trial'].to_numpy()\n",
    "\n",
    "X = sm.add_constant(X, prepend=True)\n",
    "log_model = sm.Probit(Y, X)\n",
    "res_log = log_model.fit()\n",
    "print(res_log.summary())"
   ]
  },
  {
   "cell_type": "markdown",
   "id": "b8f57bbf",
   "metadata": {},
   "source": [
    "<font size=\"3\">\n",
    "    линейная регрессия с прологарифмированными доходами"
   ]
  },
  {
   "cell_type": "code",
   "execution_count": 25,
   "id": "e487ae0d",
   "metadata": {},
   "outputs": [
    {
     "name": "stdout",
     "output_type": "stream",
     "text": [
      "                            OLS Regression Results                            \n",
      "==============================================================================\n",
      "Dep. Variable:                      y   R-squared:                       0.062\n",
      "Model:                            OLS   Adj. R-squared:                  0.062\n",
      "Method:                 Least Squares   F-statistic:                     791.2\n",
      "Date:                Tue, 19 Dec 2023   Prob (F-statistic):               0.00\n",
      "Time:                        16:28:20   Log-Likelihood:                -16505.\n",
      "No. Observations:               23796   AIC:                         3.302e+04\n",
      "Df Residuals:                   23793   BIC:                         3.304e+04\n",
      "Df Model:                           2                                         \n",
      "Covariance Type:            nonrobust                                         \n",
      "==============================================================================\n",
      "                 coef    std err          t      P>|t|      [0.025      0.975]\n",
      "------------------------------------------------------------------------------\n",
      "const          0.1438      0.018      8.123      0.000       0.109       0.179\n",
      "x1            -0.0378      0.001    -26.364      0.000      -0.041      -0.035\n",
      "x2             0.0454      0.001     30.951      0.000       0.042       0.048\n",
      "==============================================================================\n",
      "Omnibus:                    96410.267   Durbin-Watson:                   1.994\n",
      "Prob(Omnibus):                  0.000   Jarque-Bera (JB):             3080.377\n",
      "Skew:                          -0.013   Prob(JB):                         0.00\n",
      "Kurtosis:                       1.238   Cond. No.                         69.8\n",
      "==============================================================================\n",
      "\n",
      "Notes:\n",
      "[1] Standard Errors assume that the covariance matrix of the errors is correctly specified.\n"
     ]
    }
   ],
   "source": [
    "X = df1[['age_category', 'in_total_5ms_amt_loged']].to_numpy()\n",
    "Y = df1['cancelled_trial'].to_numpy()\n",
    "\n",
    "X = sm.add_constant(X, prepend=True)\n",
    "lin_model = OLS(Y, X)\n",
    "res_lin = lin_model.fit()\n",
    "print(res_lin.summary())"
   ]
  }
 ],
 "metadata": {
  "kernelspec": {
   "display_name": "Python 3",
   "language": "python",
   "name": "python3"
  },
  "language_info": {
   "codemirror_mode": {
    "name": "ipython",
    "version": 3
   },
   "file_extension": ".py",
   "mimetype": "text/x-python",
   "name": "python",
   "nbconvert_exporter": "python",
   "pygments_lexer": "ipython3",
   "version": "3.9.13"
  }
 },
 "nbformat": 4,
 "nbformat_minor": 5
}
