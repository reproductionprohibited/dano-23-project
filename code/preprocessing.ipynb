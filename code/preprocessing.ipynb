{
 "cells": [
  {
   "cell_type": "code",
   "execution_count": 11,
   "metadata": {},
   "outputs": [],
   "source": [
    "import pandas as pd"
   ]
  },
  {
   "cell_type": "code",
   "execution_count": 12,
   "metadata": {},
   "outputs": [],
   "source": [
    "df = pd.read_excel(r\"../dano_base.xlsx\")"
   ]
  },
  {
   "cell_type": "code",
   "execution_count": 13,
   "metadata": {},
   "outputs": [],
   "source": [
    "df = df.drop_duplicates(subset=['party_rk'])\n",
    "\n",
    "df = df[df.age_segment != 'Пусто']\n",
    "df = df.dropna(subset=['age_segment'])\n",
    "new_column = {'0-13':1,\n",
    "            '14-17':2,\n",
    "            '18-22':3,\n",
    "            '23-25':4,\n",
    "            '26-30':5,\n",
    "            '31-35':6,\n",
    "            '36-40':7,\n",
    "            '41-45':8,\n",
    "            '46-50':9,\n",
    "            '51-55':10,\n",
    "            '56-60':11,\n",
    "            '61-65':12,\n",
    "            '65+':13}\n",
    "df.insert(1,'age_category',df['age_segment'].map(new_column))\n",
    "\n",
    "df['trial_type'] = df['trial_type'].fillna(0)\n",
    "df = df[(df['trial_type'] == '1 mon')]\n",
    "\n",
    "df = df.dropna(subset=['subscription_time'])\n",
    "df['sub_time_in_days'] = df['subscription_time'].apply(lambda x: x/86400)"
   ]
  },
  {
   "cell_type": "code",
   "execution_count": 14,
   "metadata": {},
   "outputs": [],
   "source": [
    "df[\"cancelled_trial\"] = df[\"sub_time_in_days\"] <= 31\n",
    "df.cancelled_trial = df.cancelled_trial.map({True : 1, False : 0})"
   ]
  },
  {
   "cell_type": "code",
   "execution_count": 15,
   "metadata": {},
   "outputs": [],
   "source": [
    "df.to_pickle(r\"../base_processed.pkl\")"
   ]
  }
 ],
 "metadata": {
  "kernelspec": {
   "display_name": "base",
   "language": "python",
   "name": "python3"
  },
  "language_info": {
   "codemirror_mode": {
    "name": "ipython",
    "version": 3
   },
   "file_extension": ".py",
   "mimetype": "text/x-python",
   "name": "python",
   "nbconvert_exporter": "python",
   "pygments_lexer": "ipython3",
   "version": "3.11.5"
  }
 },
 "nbformat": 4,
 "nbformat_minor": 2
}
